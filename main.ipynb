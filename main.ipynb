{
  "nbformat": 4,
  "nbformat_minor": 0,
  "metadata": {
    "colab": {
      "name": "Copy of Untitled0.ipynb",
      "provenance": [],
      "collapsed_sections": []
    },
    "kernelspec": {
      "name": "python3",
      "display_name": "Python 3.8.7 64-bit",
      "metadata": {
        "interpreter": {
          "hash": "b7659573bf1b6290a1623a93682b8c124891d9e8a5abd4ba926bfdf7da92de9f"
        }
      }
    }
  },
  "cells": [
    {
      "cell_type": "code",
      "metadata": {
        "id": "csqP8eB3GUEV"
      },
      "source": [
        "# libraries\n",
        "import math\n",
        "import numpy as np\n",
        "import pandas as pd\n",
        "import pandas_datareader as web\n",
        "from sklearn.preprocessing import MinMaxScaler\n",
        "from tensorflow.keras.models import Sequential\n",
        "from tensorflow.keras.layers import Dense,LSTM,Dropout\n",
        "import matplotlib.pyplot as plt\n",
        "plt.style.use('fivethirtyeight')\n",
        "from datetime import date"
      ],
      "execution_count": null,
      "outputs": []
    },
    {
      "cell_type": "code",
      "execution_count": null,
      "metadata": {},
      "outputs": [],
      "source": [
        "objects = ['AAPL',\n",
        "           'CL=F']"
      ]
    },
    {
      "cell_type": "code",
      "metadata": {
        "id": "DYyBwkGXG7iL"
      },
      "source": [
        "df = web.DataReader(objects[1], data_source='yahoo', start='2012-01-01', end=date.today())"
      ],
      "execution_count": null,
      "outputs": []
    },
    {
      "cell_type": "code",
      "metadata": {
        "id": "IWe6BnRDH4ax"
      },
      "source": [
        "# visualization of closing price history\n",
        "plt.figure(figsize=(16,8))\n",
        "plt.title('Closing Price History')\n",
        "plt.plot(df['Close'])\n",
        "plt.xlabel('Date', fontsize=18)\n",
        "plt.ylabel('Close Price USD ($)', fontsize=18)\n",
        "plt.show()"
      ],
      "execution_count": null,
      "outputs": []
    },
    {
      "cell_type": "code",
      "metadata": {
        "id": "O4nrekEMJC6_"
      },
      "source": [
        "data = df.filter(['Close'])\n",
        "dataset = data.values\n",
        "training_data_len = math.ceil(len(dataset) * 0.8)"
      ],
      "execution_count": null,
      "outputs": []
    },
    {
      "cell_type": "code",
      "metadata": {
        "id": "2lqz16CWJ0fC"
      },
      "source": [
        "scaler = MinMaxScaler(feature_range=(0,1))\r\n",
        "scaled_data = scaler.fit_transform(dataset)"
      ],
      "execution_count": null,
      "outputs": []
    },
    {
      "cell_type": "code",
      "execution_count": null,
      "metadata": {},
      "outputs": [],
      "source": [
        "periods = [5,10,20,30]\n",
        "period = 5"
      ]
    },
    {
      "cell_type": "code",
      "metadata": {
        "id": "j-zC8cGrKKsx"
      },
      "source": [
        "train_data = scaled_data[ : training_data_len , : ]\n",
        "x_train = []\n",
        "y_train = []\n",
        "for i in range(period,len(train_data)):\n",
        "  x_train.append(train_data[i-period : i , 0])\n",
        "  y_train.append(train_data[i,0])\n",
        "x_train,y_train = np.array(x_train),np.array(y_train)\n",
        "print(x_train.shape)\n",
        "x_train = np.reshape(x_train, (x_train.shape[0],x_train.shape[1],1))\n",
        "print(x_train.shape)"
      ],
      "execution_count": null,
      "outputs": []
    },
    {
      "cell_type": "code",
      "metadata": {
        "id": "oLG-RoTvNsD1"
      },
      "source": [
        "test_data = scaled_data[training_data_len - period : , : ]\n",
        "x_test = []\n",
        "y_test = dataset[training_data_len :, :]\n",
        "for i in range(period,len(test_data)):\n",
        "  x_test.append(test_data[i-period : i , 0])\n",
        "x_test = np.array(x_test)\n",
        "print(x_test.shape)\n",
        "x_test = np.reshape(x_test,(x_test.shape[0],x_test.shape[1],1))\n",
        "print(x_test.shape)"
      ],
      "execution_count": null,
      "outputs": []
    },
    {
      "cell_type": "code",
      "execution_count": null,
      "metadata": {},
      "outputs": [],
      "source": [
        "layers = [1,2,3,4]\n",
        "neurons = [10,20,30,40,50,60]\n",
        "neurons_num = 60\n",
        "dropouts = [0.0,0.1,0.2,0.3,0.4,0.5]\n",
        "dropout = dropouts[5]"
      ]
    },
    {
      "cell_type": "code",
      "metadata": {
        "id": "HvPsMpeOM76g",
        "colab": {
          "base_uri": "https://localhost:8080/"
        },
        "outputId": "091f5847-4359-4ca2-974c-a7ab41d62bc7"
      },
      "source": [
        "# train.\n",
        "model = Sequential()\n",
        "model.add(LSTM(neurons_num, input_shape=(x_train.shape[1],1)))\n",
        "model.add(Dropout(dropout))\n",
        "model.add(Dense(1))\n",
        "model.compile(optimizer='adam',loss='mean_squared_error')\n",
        "model.fit(x_train,y_train,batch_size=1,epochs=15)"
      ],
      "execution_count": null,
      "outputs": []
    },
    {
      "cell_type": "code",
      "metadata": {
        "colab": {
          "base_uri": "https://localhost:8080/",
          "height": 676
        },
        "id": "Rsxzd-eZPWM2",
        "outputId": "0aa6d2b8-9b44-4b36-d022-31507dfbcaf9"
      },
      "source": [
        "# predict.\n",
        "predictions = model.predict(x_test)\n",
        "predictions = scaler.inverse_transform(predictions)train = data[ : training_data_len]\n",
        "valid = data[training_data_len : ]\n",
        "valid['Predictions'] = predictions"
      ],
      "execution_count": null,
      "outputs": []
    },
    {
      "cell_type": "code",
      "execution_count": null,
      "metadata": {},
      "outputs": [],
      "source": [
        "# plot.\n",
        "plt.figure(figsize=(16,8))\n",
        "plt.title('Model')\n",
        "plt.xlabel('Date', fontsize=18)\n",
        "plt.ylabel('Close Price USD ($)', fontsize=18)\n",
        "plt.plot(train['Close'])\n",
        "plt.plot(valid[['Close', 'Predictions']])\n",
        "plt.legend(['Train', 'Val', 'Predictions'], loc='lower right')\n",
        "plt.show()\n",
        "rmse = np.sqrt(np.mean(predictions - y_test)**2)\n",
        "rmse"
      ]
    }
  ]
}